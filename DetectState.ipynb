{
 "cells": [
  {
   "cell_type": "code",
   "execution_count": 2,
   "id": "adab18e6",
   "metadata": {},
   "outputs": [],
   "source": [
    "import os\n",
    "import pandas as pd\n",
    "import numpy as np\n",
    "from os import path\n",
    "import shutil\n",
    "import math"
   ]
  },
  {
   "cell_type": "markdown",
   "id": "a76d2412",
   "metadata": {},
   "source": [
    "# Data load"
   ]
  },
  {
   "cell_type": "code",
   "execution_count": 3,
   "id": "5a767a65",
   "metadata": {},
   "outputs": [],
   "source": [
    "folder = r'D:\\OFFIS\\Green\\Results'"
   ]
  },
  {
   "cell_type": "code",
   "execution_count": 4,
   "id": "1ddb3d05",
   "metadata": {},
   "outputs": [],
   "source": [
    "df = pd.read_excel(r'D:\\OFFIS\\Green\\MergeResults.xlsx',skiprows=[0], usecols = [5, 10], sheet_name = 0)\n",
    "#df = pd.read_excel(r'D:\\OFFIS\\Green\\MergeResults.xlsx', sheet_name = 0)"
   ]
  },
  {
   "cell_type": "code",
   "execution_count": 5,
   "id": "de07c6fc",
   "metadata": {},
   "outputs": [
    {
     "name": "stdout",
     "output_type": "stream",
     "text": [
      "(20297, 2)\n"
     ]
    }
   ],
   "source": [
    "print(df.shape)"
   ]
  },
  {
   "cell_type": "code",
   "execution_count": 7,
   "id": "20db9c66",
   "metadata": {},
   "outputs": [
    {
     "name": "stderr",
     "output_type": "stream",
     "text": [
      "PandasGUI INFO — pandasgui.gui — Opening PandasGUI\n",
      "PandasGUI WARNING — pandasgui.utility — In df, converted column names to string: 4251\n",
      "c:\\python38\\lib\\site-packages\\pandas\\core\\apply.py:507: FutureWarning:\n",
      "\n",
      "Dropping invalid columns in DataFrameGroupBy.mean is deprecated. In a future version, a TypeError will be raised. Before calling .mean, select only columns which should be valid for the function.\n",
      "\n"
     ]
    }
   ],
   "source": [
    "from pandasgui import show\n",
    "gui = show(df)"
   ]
  },
  {
   "cell_type": "code",
   "execution_count": 6,
   "id": "af0b6ee4",
   "metadata": {},
   "outputs": [],
   "source": [
    "oneItemProcessing = False "
   ]
  },
  {
   "cell_type": "code",
   "execution_count": null,
   "id": "137c637e",
   "metadata": {},
   "outputs": [],
   "source": [
    "counterFolders = 0\n",
    "countExcelFiles = 0  \n",
    "data=[]\n",
    "\n",
    "for root, dirs, files in os.walk(folder):\n",
    "    for file in files:\n",
    "        path = os.path.join(root, file)\n",
    "        print(path)\n",
    "        filename = os.path.basename(path)\n",
    "         \n",
    "        df1 = pd.read_excel(folder +'\\\\' + filename, skiprows=[0], usecols = [5, 10], sheet_name = 0) \n",
    "        #df1 = pd.read_excel(folder +'\\\\' + filename, usecols = [5, 10], sheet_name = 0) \n",
    "        print(df1)\n",
    "       \n",
    "                       \n",
    "        data.append(df1)\n",
    "            \n",
    "        countExcelFiles += 1\n",
    "\n",
    "        if oneItemProcessing:\n",
    "            break\n",
    "    \n",
    "print(\"Number of processed excel files: \", countExcelFiles)\n",
    "dfs=pd.append(data, ignore_index=True)\n",
    "oneItemProcessing = True "
   ]
  },
  {
   "cell_type": "code",
   "execution_count": null,
   "id": "32f01bb6",
   "metadata": {},
   "outputs": [],
   "source": [
    "print(dfs)"
   ]
  },
  {
   "cell_type": "code",
   "execution_count": null,
   "id": "449a086d",
   "metadata": {},
   "outputs": [],
   "source": []
  },
  {
   "cell_type": "code",
   "execution_count": null,
   "id": "8b86da28",
   "metadata": {},
   "outputs": [],
   "source": [
    "dfs.drop_duplicates()"
   ]
  },
  {
   "cell_type": "code",
   "execution_count": null,
   "id": "60456d2b",
   "metadata": {},
   "outputs": [],
   "source": [
    "print(dfs)"
   ]
  },
  {
   "cell_type": "code",
   "execution_count": 12,
   "id": "f192feb4",
   "metadata": {},
   "outputs": [
    {
     "name": "stdout",
     "output_type": "stream",
     "text": [
      "0        731\n",
      "1        831\n",
      "2        931\n",
      "3         31\n",
      "4        131\n",
      "        ... \n",
      "20293    645\n",
      "20294    745\n",
      "20295    845\n",
      "20296    945\n",
      "20297     45\n",
      "Name: Unnamed: 1, Length: 20298, dtype: int64\n"
     ]
    }
   ],
   "source": [
    "print(df.iloc[:, 1])"
   ]
  },
  {
   "cell_type": "code",
   "execution_count": null,
   "id": "a8c8ba2e",
   "metadata": {},
   "outputs": [],
   "source": [
    "print(df.iloc[:, :9])"
   ]
  },
  {
   "cell_type": "code",
   "execution_count": 9,
   "id": "f36b76c3",
   "metadata": {},
   "outputs": [],
   "source": [
    "x= df.iloc[:, 0]\n",
    "y= df.iloc[:, 1]"
   ]
  },
  {
   "cell_type": "code",
   "execution_count": 10,
   "id": "a724e012",
   "metadata": {},
   "outputs": [
    {
     "name": "stdout",
     "output_type": "stream",
     "text": [
      "(20297, 1)\n"
     ]
    }
   ],
   "source": [
    "xp=np.array(x)\n",
    "xpn=xp.reshape(-1,1)\n",
    "print(xpn.shape)"
   ]
  },
  {
   "cell_type": "code",
   "execution_count": 9,
   "id": "9447e452",
   "metadata": {},
   "outputs": [
    {
     "name": "stdout",
     "output_type": "stream",
     "text": [
      "(20297,)\n"
     ]
    }
   ],
   "source": [
    "print(y.shape)"
   ]
  },
  {
   "cell_type": "code",
   "execution_count": 49,
   "id": "228336d5",
   "metadata": {},
   "outputs": [
    {
     "data": {
      "text/plain": [
       "<AxesSubplot:>"
      ]
     },
     "execution_count": 49,
     "metadata": {},
     "output_type": "execute_result"
    },
    {
     "data": {
      "image/png": "[encoded data removed]",
      "text/plain": [
       "<Figure size 432x288 with 1 Axes>"
      ]
     },
     "metadata": {
      "needs_background": "light"
     },
     "output_type": "display_data"
    }
   ],
   "source": [
    "import seaborn as sns\n",
    "sns.boxplot(x)\n"
   ]
  },
  {
   "cell_type": "markdown",
   "id": "6cc8637e",
   "metadata": {},
   "source": [
    "# KNN algorithm"
   ]
  },
  {
   "cell_type": "code",
   "execution_count": 13,
   "id": "32e5a360",
   "metadata": {},
   "outputs": [],
   "source": [
    "from sklearn.neighbors import KNeighborsClassifier\n",
    "knn = KNeighborsClassifier(n_neighbors=1)"
   ]
  },
  {
   "cell_type": "code",
   "execution_count": 14,
   "id": "129d059a",
   "metadata": {},
   "outputs": [
    {
     "data": {
      "text/plain": [
       "KNeighborsClassifier(n_neighbors=1)"
      ]
     },
     "execution_count": 14,
     "metadata": {},
     "output_type": "execute_result"
    }
   ],
   "source": [
    "knn.fit(xpn,y)"
   ]
  },
  {
   "cell_type": "code",
   "execution_count": 32,
   "id": "fd53dbea",
   "metadata": {},
   "outputs": [
    {
     "data": {
      "text/plain": [
       "array(['Diagonal-Engraving'], dtype=object)"
      ]
     },
     "execution_count": 32,
     "metadata": {},
     "output_type": "execute_result"
    }
   ],
   "source": [
    "knn.predict([[60000]])"
   ]
  },
  {
   "cell_type": "code",
   "execution_count": 33,
   "id": "9deba37e",
   "metadata": {},
   "outputs": [
    {
     "name": "stdout",
     "output_type": "stream",
     "text": [
      "['X-Engraving']\n"
     ]
    }
   ],
   "source": [
    "from sklearn.linear_model import LogisticRegression\n",
    "logreg = LogisticRegression()\n",
    "logreg.fit(xpn,y)\n",
    "print(logreg.predict([[4300]]))"
   ]
  },
  {
   "cell_type": "code",
   "execution_count": 34,
   "id": "7196746e",
   "metadata": {},
   "outputs": [],
   "source": [
    "from sklearn.model_selection import train_test_split\n",
    "X_train, X_test, Y_train, Y_test = train_test_split(xpn,y, test_size=0.10, random_state=20)"
   ]
  },
  {
   "cell_type": "code",
   "execution_count": 35,
   "id": "47305d89",
   "metadata": {},
   "outputs": [
    {
     "name": "stdout",
     "output_type": "stream",
     "text": [
      "(2030, 1)\n"
     ]
    }
   ],
   "source": [
    "print(X_test.shape)"
   ]
  },
  {
   "cell_type": "code",
   "execution_count": 36,
   "id": "258ae593",
   "metadata": {},
   "outputs": [
    {
     "name": "stdout",
     "output_type": "stream",
     "text": [
      "['Idle' 'X-Engraving' 'Idle' ... 'Diagonal-Engraving' 'Y-Movement'\n",
      " 'X-Engraving']\n"
     ]
    }
   ],
   "source": [
    "knn.fit(X_train, Y_train)\n",
    "predictions = knn.predict(X_test)\n",
    "print(predictions)"
   ]
  },
  {
   "cell_type": "code",
   "execution_count": 37,
   "id": "ae4c7f00",
   "metadata": {},
   "outputs": [
    {
     "name": "stdout",
     "output_type": "stream",
     "text": [
      "4369            X-Engraving\n",
      "8358            Y-Engraving\n",
      "787                    Idle\n",
      "19802                  Idle\n",
      "522             X-Engraving\n",
      "                ...        \n",
      "12325    Diagonal-Engraving\n",
      "19943           X-Engraving\n",
      "16384           Y-Engraving\n",
      "11801                  Idle\n",
      "10470           X-Engraving\n",
      "Name: Idle, Length: 2030, dtype: object\n"
     ]
    }
   ],
   "source": [
    "print(Y_test)"
   ]
  },
  {
   "cell_type": "markdown",
   "id": "d891813f",
   "metadata": {},
   "source": [
    "# Performance"
   ]
  },
  {
   "cell_type": "code",
   "execution_count": 39,
   "id": "dfba9a83",
   "metadata": {},
   "outputs": [
    {
     "name": "stdout",
     "output_type": "stream",
     "text": [
      "0.7280788177339902\n"
     ]
    }
   ],
   "source": [
    "from sklearn import metrics\n",
    "performance = metrics.accuracy_score(Y_test, predictions)\n",
    "print(performance)"
   ]
  },
  {
   "cell_type": "code",
   "execution_count": 40,
   "id": "0b43b8e7",
   "metadata": {},
   "outputs": [
    {
     "name": "stdout",
     "output_type": "stream",
     "text": [
      "{0: 0.7281, 1: 0.666, 2: 0.5921, 3: 0.6153, 4: 0.6739, 5: 0.668, 6: 0.6512, 7: 0.6552, 8: 0.664, 9: 0.6621, 10: 0.6547, 11: 0.6576, 12: 0.6596, 13: 0.6635, 14: 0.6581, 15: 0.6586, 16: 0.6576, 17: 0.6547, 18: 0.6547, 19: 0.6542, 20: 0.6567, 21: 0.6532, 22: 0.6493, 23: 0.6473, 24: 0.6478, 25: 0.6453, 26: 0.6478, 27: 0.6389, 28: 0.6463, 29: 0.6453, 30: 0.6429, 31: 0.6414, 32: 0.6443, 33: 0.6374, 34: 0.6419, 35: 0.6404, 36: 0.6448, 37: 0.6453, 38: 0.6478, 39: 0.6458, 40: 0.6478, 41: 0.6438, 42: 0.6473, 43: 0.6493, 44: 0.6478, 45: 0.6473, 46: 0.6498, 47: 0.6468, 48: 0.6433, 49: 0.6443}\n"
     ]
    }
   ],
   "source": [
    "k_values={}\n",
    "k=1\n",
    "\n",
    "while k<=50:\n",
    "    knn = KNeighborsClassifier(n_neighbors=k)\n",
    "    knn.fit(X_train, Y_train)\n",
    "    predictions = knn.predict(X_test)\n",
    "    performance = metrics.accuracy_score(Y_test, predictions)\n",
    "    k_values[k-1]= round(performance,4)\n",
    "    k +=1\n",
    "    \n",
    "print(k_values)"
   ]
  },
  {
   "cell_type": "code",
   "execution_count": 41,
   "id": "bf41acd1",
   "metadata": {},
   "outputs": [
    {
     "data": {
      "image/png": "[encoded data removed]",
      "text/plain": [
       "<Figure size 432x288 with 1 Axes>"
      ]
     },
     "metadata": {
      "needs_background": "light"
     },
     "output_type": "display_data"
    }
   ],
   "source": [
    "import matplotlib.pyplot as plt\n",
    "\n",
    "plt.plot(list(k_values.keys()), list(k_values.values()))\n",
    "plt.xlabel(\"values of K\")\n",
    "plt.ylabel=(\"performance\")\n",
    "plt.show()"
   ]
  },
  {
   "cell_type": "markdown",
   "id": "52edb909",
   "metadata": {},
   "source": [
    "# Logistic Regression"
   ]
  },
  {
   "cell_type": "code",
   "execution_count": 42,
   "id": "93de265f",
   "metadata": {},
   "outputs": [
    {
     "name": "stdout",
     "output_type": "stream",
     "text": [
      "0.3103448275862069\n"
     ]
    }
   ],
   "source": [
    "from sklearn.linear_model import LogisticRegression\n",
    "logreg = LogisticRegression()\n",
    "logreg.fit(X_train, Y_train)\n",
    "#print(logreg.predict_proba([[51067]]))\n",
    "\n",
    "predictions_logreg = logreg.predict(X_test)\n",
    "performance_logreg = metrics.accuracy_score(Y_test, predictions_logreg)\n",
    "print(performance_logreg)"
   ]
  },
  {
   "cell_type": "markdown",
   "id": "8135e37f",
   "metadata": {},
   "source": [
    "# Neural Network"
   ]
  },
  {
   "cell_type": "markdown",
   "id": "f51f4aa1",
   "metadata": {},
   "source": [
    "###### Before giving inputs to neural network, classification step is needed here. Also data preparation step is required to make the states mapped with numbers."
   ]
  },
  {
   "cell_type": "code",
   "execution_count": 43,
   "id": "caa4abe1",
   "metadata": {},
   "outputs": [
    {
     "name": "stdout",
     "output_type": "stream",
     "text": [
      "TensorFlow version: 2.9.1\n"
     ]
    }
   ],
   "source": [
    "import tensorflow as tf\n",
    "print(\"TensorFlow version:\", tf.__version__)"
   ]
  },
  {
   "cell_type": "code",
   "execution_count": 44,
   "id": "9e059025",
   "metadata": {},
   "outputs": [],
   "source": [
    "#Data Preprocessing\n",
    "from sklearn.model_selection import train_test_split\n",
    "X_train, X_test = train_test_split(xpn, train_size=0.9)\n",
    "Y_train, Y_test = train_test_split(y, train_size=0.9)"
   ]
  },
  {
   "cell_type": "code",
   "execution_count": 45,
   "id": "d7bf4bb3",
   "metadata": {},
   "outputs": [
    {
     "name": "stdout",
     "output_type": "stream",
     "text": [
      "18267\n"
     ]
    }
   ],
   "source": [
    "print(X_train.shape[0])"
   ]
  },
  {
   "cell_type": "code",
   "execution_count": 46,
   "id": "050ad015",
   "metadata": {},
   "outputs": [],
   "source": [
    "from tensorflow import keras \n",
    "from keras.layers import Input, Dense"
   ]
  },
  {
   "cell_type": "code",
   "execution_count": 47,
   "id": "97f77d04",
   "metadata": {},
   "outputs": [],
   "source": [
    "col_num = X_train.shape[1]\n",
    "input_dim = Input(shape=(col_num,))"
   ]
  },
  {
   "cell_type": "code",
   "execution_count": 48,
   "id": "70e531e2",
   "metadata": {},
   "outputs": [
    {
     "ename": "AttributeError",
     "evalue": "module 'tensorflow' has no attribute 'layers'",
     "output_type": "error",
     "traceback": [
      "\u001b[1;31m---------------------------------------------------------------------------\u001b[0m",
      "\u001b[1;31mAttributeError\u001b[0m                            Traceback (most recent call last)",
      "\u001b[1;32mC:\\Users\\VAISHN~1\\AppData\\Local\\Temp/ipykernel_35896/3793974268.py\u001b[0m in \u001b[0;36m<module>\u001b[1;34m\u001b[0m\n\u001b[0;32m      1\u001b[0m model = keras.Sequential(\n\u001b[0;32m      2\u001b[0m     [\n\u001b[1;32m----> 3\u001b[1;33m         \u001b[0mtf\u001b[0m\u001b[1;33m.\u001b[0m\u001b[0mlayers\u001b[0m\u001b[1;33m.\u001b[0m\u001b[0mDense\u001b[0m\u001b[1;33m(\u001b[0m\u001b[1;36m1\u001b[0m\u001b[1;33m,\u001b[0m \u001b[0mactivation\u001b[0m\u001b[1;33m=\u001b[0m\u001b[1;34m\"relu\"\u001b[0m\u001b[1;33m,\u001b[0m \u001b[0mname\u001b[0m\u001b[1;33m=\u001b[0m\u001b[1;34m\"layer1\"\u001b[0m\u001b[1;33m)\u001b[0m\u001b[1;33m,\u001b[0m\u001b[1;33m\u001b[0m\u001b[1;33m\u001b[0m\u001b[0m\n\u001b[0m\u001b[0;32m      4\u001b[0m         \u001b[0mtf\u001b[0m\u001b[1;33m.\u001b[0m\u001b[0mlayers\u001b[0m\u001b[1;33m.\u001b[0m\u001b[0mDense\u001b[0m\u001b[1;33m(\u001b[0m\u001b[1;36m3\u001b[0m\u001b[1;33m,\u001b[0m \u001b[0mactivation\u001b[0m\u001b[1;33m=\u001b[0m\u001b[1;34m\"relu\"\u001b[0m\u001b[1;33m,\u001b[0m \u001b[0mname\u001b[0m\u001b[1;33m=\u001b[0m\u001b[1;34m\"layer2\"\u001b[0m\u001b[1;33m)\u001b[0m\u001b[1;33m,\u001b[0m\u001b[1;33m\u001b[0m\u001b[1;33m\u001b[0m\u001b[0m\n\u001b[0;32m      5\u001b[0m         \u001b[0mtf\u001b[0m\u001b[1;33m.\u001b[0m\u001b[0mlayers\u001b[0m\u001b[1;33m.\u001b[0m\u001b[0mDense\u001b[0m\u001b[1;33m(\u001b[0m\u001b[1;36m1\u001b[0m\u001b[1;33m,\u001b[0m \u001b[0mactivation\u001b[0m\u001b[1;33m=\u001b[0m\u001b[1;34m\"sigmoid\"\u001b[0m\u001b[1;33m,\u001b[0m \u001b[0mname\u001b[0m\u001b[1;33m=\u001b[0m\u001b[1;34m\"layer3\"\u001b[0m\u001b[1;33m)\u001b[0m\u001b[1;33m,\u001b[0m\u001b[1;33m\u001b[0m\u001b[1;33m\u001b[0m\u001b[0m\n",
      "\u001b[1;31mAttributeError\u001b[0m: module 'tensorflow' has no attribute 'layers'"
     ]
    }
   ],
   "source": [
    "model = keras.Sequential(\n",
    "    [\n",
    "        tf.layers.Dense(1, activation=\"relu\", name=\"layer1\"),\n",
    "        tf.layers.Dense(3, activation=\"relu\", name=\"layer2\"),\n",
    "        tf.layers.Dense(1, activation=\"sigmoid\", name=\"layer3\"),\n",
    "    ]\n",
    ")\n",
    "\n",
    "model.compile(optimizer='adam',               \n",
    "              loss=tf.keras.losses.MeanSquaredError(),\n",
    "              metrics=['mean_absolute_error'])\n",
    "\n",
    "\n",
    "\n",
    "#model.build()"
   ]
  },
  {
   "cell_type": "code",
   "execution_count": null,
   "id": "80281d3a",
   "metadata": {},
   "outputs": [
    {
     "name": "stderr",
     "output_type": "stream",
     "text": [
      "c:\\python38\\lib\\site-packages\\pandas\\core\\apply.py:507: FutureWarning:\n",
      "\n",
      "Dropping invalid columns in DataFrameGroupBy.mean is deprecated. In a future version, a TypeError will be raised. Before calling .mean, select only columns which should be valid for the function.\n",
      "\n"
     ]
    }
   ],
   "source": [
    "history = model.fit(X_train, Y_train, epochs=1, validation_data=(X_test, Y_test))"
   ]
  },
  {
   "cell_type": "code",
   "execution_count": null,
   "id": "d6c80216",
   "metadata": {},
   "outputs": [],
   "source": [
    "a = model.predict(X_test) "
   ]
  },
  {
   "cell_type": "code",
   "execution_count": null,
   "id": "92fe8d3b",
   "metadata": {},
   "outputs": [],
   "source": []
  }
 ],
 "metadata": {
  "kernelspec": {
   "display_name": "Python 3 (ipykernel)",
   "language": "python",
   "name": "python3"
  },
  "language_info": {
   "codemirror_mode": {
    "name": "ipython",
    "version": 3
   },
   "file_extension": ".py",
   "mimetype": "text/x-python",
   "name": "python",
   "nbconvert_exporter": "python",
   "pygments_lexer": "ipython3",
   "version": "3.8.6"
  }
 },
 "nbformat": 4,
 "nbformat_minor": 5
}
